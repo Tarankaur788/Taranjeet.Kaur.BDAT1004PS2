{
 "cells": [
  {
   "cell_type": "markdown",
   "id": "f25172b1-ab78-4b1b-8c14-741b50715f3f",
   "metadata": {},
   "source": [
    "# Question 1"
   ]
  },
  {
   "cell_type": "code",
   "execution_count": 9,
   "id": "96bdb139-ca32-4fe5-b5c6-3ecef676f004",
   "metadata": {},
   "outputs": [],
   "source": [
    "a = 0\n",
    "def b():\n",
    " global a\n",
    " a = c(a)\n",
    "def c(a):\n",
    " return a + 2"
   ]
  },
  {
   "cell_type": "code",
   "execution_count": 10,
   "id": "98df52ff-8447-4624-a4b9-458a34624680",
   "metadata": {},
   "outputs": [],
   "source": [
    "b()"
   ]
  },
  {
   "cell_type": "code",
   "execution_count": 11,
   "id": "1d89578b-efeb-407c-9280-0c8dc302b48c",
   "metadata": {},
   "outputs": [
    {
     "data": {
      "text/plain": [
       "2"
      ]
     },
     "execution_count": 11,
     "metadata": {},
     "output_type": "execute_result"
    }
   ],
   "source": [
    "a"
   ]
  },
  {
   "cell_type": "code",
   "execution_count": 12,
   "id": "cf861b43-603a-4b69-bb64-184e12fbbfb6",
   "metadata": {},
   "outputs": [],
   "source": [
    "b()"
   ]
  },
  {
   "cell_type": "code",
   "execution_count": 13,
   "id": "f64aa240-2b4f-4b70-80e2-dd5f5c61411a",
   "metadata": {},
   "outputs": [
    {
     "data": {
      "text/plain": [
       "4"
      ]
     },
     "execution_count": 13,
     "metadata": {},
     "output_type": "execute_result"
    }
   ],
   "source": [
    "c(2)"
   ]
  },
  {
   "cell_type": "code",
   "execution_count": null,
   "id": "3e6945bb-cafd-4ded-8d46-e0e2f0dc013a",
   "metadata": {},
   "outputs": [],
   "source": [
    "b()"
   ]
  },
  {
   "cell_type": "code",
   "execution_count": 14,
   "id": "b39b39b9-3996-41da-ab8c-3effe3b6bd6d",
   "metadata": {},
   "outputs": [
    {
     "data": {
      "text/plain": [
       "6"
      ]
     },
     "execution_count": 14,
     "metadata": {},
     "output_type": "execute_result"
    }
   ],
   "source": [
    "c(4)"
   ]
  },
  {
   "cell_type": "code",
   "execution_count": 15,
   "id": "7c828116-2e22-4a8c-a171-cee8fa9fd5eb",
   "metadata": {},
   "outputs": [
    {
     "data": {
      "text/plain": [
       "4"
      ]
     },
     "execution_count": 15,
     "metadata": {},
     "output_type": "execute_result"
    }
   ],
   "source": [
    "a"
   ]
  },
  {
   "cell_type": "raw",
   "id": "e04cdba8-3d83-4b7c-ade9-36adf8785079",
   "metadata": {},
   "source": [
    "1. Initial value of a: 0\n",
    "2. After first b(): a becomes 2\n",
    "3. After second b(): a becomes 4\n",
    "4. After third b(): a becomes 6\n",
    "5. The final output of >>> a is 6."
   ]
  },
  {
   "cell_type": "markdown",
   "id": "f194a538-e776-4764-a09c-27a08ea98fc9",
   "metadata": {},
   "source": [
    "# Question 2"
   ]
  },
  {
   "cell_type": "code",
   "execution_count": 16,
   "id": "9cb331f7-b575-43ac-aa5d-224f018f9f1a",
   "metadata": {},
   "outputs": [
    {
     "name": "stdout",
     "output_type": "stream",
     "text": [
      "File midterm.py not found.\n",
      "None\n",
      "File idterm.py not found.\n",
      "None\n"
     ]
    }
   ],
   "source": [
    "def fileLength(filename):\n",
    "    try:\n",
    "        with open(filename, 'r') as infile:\n",
    "            contents = infile.read()  # Read the contents of the file\n",
    "            return len(contents)  # Return the length of the contents\n",
    "    except FileNotFoundError:\n",
    "        print(f\"File {filename} not found.\")\n",
    "    except Exception as e:\n",
    "        print(f\"An error occurred: {e}\")\n",
    "\n",
    "# Example usage:\n",
    "print(fileLength('midterm.py'))  # Should print the length of the file\n",
    "print(fileLength('idterm.py'))    # Should print a friendly message\n"
   ]
  },
  {
   "cell_type": "markdown",
   "id": "a86665b0-6571-4fb4-89bb-36caf7c337ce",
   "metadata": {},
   "source": [
    "# Question 3"
   ]
  },
  {
   "cell_type": "code",
   "execution_count": 17,
   "id": "75396c87-3e75-46c8-8787-ffe2ff6ae842",
   "metadata": {},
   "outputs": [],
   "source": [
    "class Marsupial:\n",
    "    def __init__(self):\n",
    "        self.pouch = []\n",
    "\n",
    "    def put_in_pouch(self, item):\n",
    "        self.pouch.append(item)\n",
    "\n",
    "    def pouch_contents(self):\n",
    "        return self.pouch\n"
   ]
  },
  {
   "cell_type": "code",
   "execution_count": 18,
   "id": "61846b21-24cb-40df-b0de-0dfa99a8add1",
   "metadata": {},
   "outputs": [],
   "source": [
    "class Kangaroo(Marsupial):\n",
    "    def __init__(self, x, y):\n",
    "        super().__init__()  # Initialize the Marsupial part\n",
    "        self.x = x  # x-coordinate\n",
    "        self.y = y  # y-coordinate\n",
    "\n",
    "    def jump(self, dx, dy):\n",
    "        self.x += dx  # Update x-coordinate\n",
    "        self.y += dy  # Update y-coordinate\n",
    "\n",
    "    def __str__(self):\n",
    "        return f\"I am a Kangaroo located at coordinates ({self.x},{self.y})\"\n"
   ]
  },
  {
   "cell_type": "code",
   "execution_count": 19,
   "id": "0dc6a65f-53c5-47dc-8ae9-93e7c42e01b7",
   "metadata": {},
   "outputs": [
    {
     "name": "stdout",
     "output_type": "stream",
     "text": [
      "['doll', 'firetruck', 'kitten']\n",
      "I am a Kangaroo located at coordinates (0,0)\n",
      "['doll', 'firetruck', 'kitten']\n",
      "I am a Kangaroo located at coordinates (3,0)\n"
     ]
    }
   ],
   "source": [
    "# Create a Marsupial object\n",
    "m = Marsupial()\n",
    "m.put_in_pouch('doll')\n",
    "m.put_in_pouch('firetruck')\n",
    "m.put_in_pouch('kitten')\n",
    "print(m.pouch_contents())  # Output: ['doll', 'firetruck', 'kitten']\n",
    "\n",
    "# Create a Kangaroo object\n",
    "k = Kangaroo(0, 0)\n",
    "print(k)  # Output: I am a Kangaroo located at coordinates (0,0)\n",
    "\n",
    "k.put_in_pouch('doll')\n",
    "k.put_in_pouch('firetruck')\n",
    "k.put_in_pouch('kitten')\n",
    "print(k.pouch_contents())  # Output: ['doll', 'firetruck', 'kitten']\n",
    "\n",
    "# Move the Kangaroo\n",
    "k.jump(1, 0)\n",
    "k.jump(1, 0)\n",
    "k.jump(1, 0)\n",
    "print(k)  # Output: I am a Kangaroo located at coordinates (3,0)\n"
   ]
  },
  {
   "cell_type": "code",
   "execution_count": 13,
   "id": "983c1b81-5560-447b-b4a2-c689b471f64a",
   "metadata": {},
   "outputs": [
    {
     "name": "stdout",
     "output_type": "stream",
     "text": [
      "['doll', 'firetruck', 'kitten']\n",
      "I am a Kangaroo located at coordinates (0,0)\n",
      "['doll', 'firetruck', 'kitten']\n",
      "I am a Kangaroo located at coordinates (3,0)\n"
     ]
    }
   ],
   "source": [
    "# Create a Marsupial object\n",
    "m = Marsupial()\n",
    "m.put_in_pouch('doll')\n",
    "m.put_in_pouch('firetruck')\n",
    "m.put_in_pouch('kitten')\n",
    "print(m.pouch_contents())  # Output: ['doll', 'firetruck', 'kitten']\n",
    "\n",
    "# Create a Kangaroo object\n",
    "k = Kangaroo(0, 0)\n",
    "print(k)  # Output: I am a Kangaroo located at coordinates (0,0)\n",
    "\n",
    "k.put_in_pouch('doll')\n",
    "k.put_in_pouch('firetruck')\n",
    "k.put_in_pouch('kitten')\n",
    "print(k.pouch_contents())  # Output: ['doll', 'firetruck', 'kitten']\n",
    "\n",
    "# Move the Kangaroo\n",
    "k.jump(1, 0)\n",
    "k.jump(1, 0)\n",
    "k.jump(1, 0)\n",
    "print(k)  # Output: I am a Kangaroo located at coordinates (3,0)\n"
   ]
  },
  {
   "cell_type": "markdown",
   "id": "2e9e162f-3ab1-4573-8375-b7ccc88aab17",
   "metadata": {},
   "source": [
    "# Question 4"
   ]
  },
  {
   "cell_type": "code",
   "execution_count": 20,
   "id": "7164ca2b-b658-4861-ac4c-a90e80664486",
   "metadata": {},
   "outputs": [
    {
     "name": "stdout",
     "output_type": "stream",
     "text": [
      "1\n",
      "10\n",
      "5\n",
      "16\n",
      "8\n",
      "4\n",
      "2\n",
      "1\n"
     ]
    }
   ],
   "source": [
    "def collatz(x):\n",
    "    print(x)  # Print the current value of x\n",
    "    if x == 1:\n",
    "        return  # Base case: if x is 1, stop the recursion\n",
    "    elif x % 2 == 0:  # Check if x is even\n",
    "        collatz(x // 2)  # Recursive call with x divided by 2\n",
    "    else:  # x is odd\n",
    "        collatz(3 * x + 1)  # Recursive call with 3x + 1\n",
    "\n",
    "# Example usage:\n",
    "collatz(1)  \n",
    "collatz(10)  \n"
   ]
  },
  {
   "cell_type": "markdown",
   "id": "fbdad1da-324c-4b51-b19d-1d5268d51f5b",
   "metadata": {},
   "source": [
    "# Question 5"
   ]
  },
  {
   "cell_type": "code",
   "execution_count": 21,
   "id": "997e046f-8beb-489d-857c-6849dbe13813",
   "metadata": {},
   "outputs": [
    {
     "name": "stdout",
     "output_type": "stream",
     "text": [
      "0\n",
      "\n",
      "1\n",
      "11\n",
      "1001"
     ]
    }
   ],
   "source": [
    "def binary(n):\n",
    "    # Base case: if n is 0, print 0\n",
    "    if n == 0:\n",
    "        print(0)\n",
    "    else:\n",
    "        # Call the recursive function with n // 2\n",
    "        if n > 1:  # Only print if n is greater than 1 to avoid printing extra zeros\n",
    "            binary(n // 2)\n",
    "        # Print the last digit (n % 2) after the recursive call\n",
    "        print(n % 2, end='')\n",
    "\n",
    "# Example usage:\n",
    "binary(0)  # Output: 0\n",
    "print()     # Print a newline for better output formatting\n",
    "binary(1)  # Output: 1\n",
    "print()\n",
    "binary(3)  # Output: 11\n",
    "print()\n",
    "binary(9)  # Output: 1001\n"
   ]
  },
  {
   "cell_type": "markdown",
   "id": "12e1d8b0-c5b3-4482-ad46-dd448b054a55",
   "metadata": {},
   "source": [
    "# Question 6"
   ]
  },
  {
   "cell_type": "code",
   "execution_count": 16,
   "id": "a71ff457-fac6-42c9-be7b-703bf69b870a",
   "metadata": {},
   "outputs": [
    {
     "name": "stdout",
     "output_type": "stream",
     "text": [
      "\n",
      "\n",
      "\n",
      "\n",
      "\n",
      "Change_me\n",
      "\n",
      "\n",
      "\n",
      "\n",
      "\n",
      "\n",
      "W3C Mission\n",
      "\n",
      " Principles\n",
      "\n",
      "\n"
     ]
    }
   ],
   "source": [
    "from html.parser import HTMLParser\n",
    "\n",
    "class HeadingParser(HTMLParser):\n",
    "    def __init__(self):\n",
    "        super().__init__()  # Initialize the base class\n",
    "        self.indent_level = 0  # Initialize indentation level\n",
    "\n",
    "    def handle_starttag(self, tag, attrs):\n",
    "        if tag in ('h1', 'h2', 'h3', 'h4', 'h5', 'h6'):\n",
    "            self.indent_level = int(tag[1]) - 1  # Set indentation level based on heading level\n",
    "\n",
    "    def handle_endtag(self, tag):\n",
    "        if tag in ('h1', 'h2', 'h3', 'h4', 'h5', 'h6'):\n",
    "            self.indent_level = 0  # Reset indentation after closing the heading tag\n",
    "\n",
    "    def handle_data(self, data):\n",
    "        if self.indent_level >= 0:  # Print only if it's a heading level\n",
    "            print(' ' * self.indent_level + data.strip())  # Print with indentation\n",
    "\n",
    "# Example usage\n",
    "if __name__ == \"__main__\":\n",
    "    # Open and read the HTML file\n",
    "    with open('w3c.html', 'r') as infile:\n",
    "        content = infile.read()\n",
    "\n",
    "    # Create an instance of HeadingParser\n",
    "    hp = HeadingParser()\n",
    "    hp.feed(content)  # Feed the HTML content to the parser\n"
   ]
  },
  {
   "cell_type": "markdown",
   "id": "bcf4c456-b343-417d-925e-600b966bec75",
   "metadata": {},
   "source": [
    "# Question 7"
   ]
  },
  {
   "cell_type": "code",
   "execution_count": 19,
   "id": "df530549-a07e-440a-ad32-6f826a2d86a5",
   "metadata": {},
   "outputs": [
    {
     "name": "stdout",
     "output_type": "stream",
     "text": [
      "Requirement already satisfied: requests in c:\\users\\lenovo\\appdata\\local\\programs\\python\\python312\\lib\\site-packages (2.32.3)\n",
      "Requirement already satisfied: beautifulsoup4 in c:\\users\\lenovo\\appdata\\local\\programs\\python\\python312\\lib\\site-packages (4.12.3)\n",
      "Requirement already satisfied: charset-normalizer<4,>=2 in c:\\users\\lenovo\\appdata\\local\\programs\\python\\python312\\lib\\site-packages (from requests) (3.3.2)\n",
      "Requirement already satisfied: idna<4,>=2.5 in c:\\users\\lenovo\\appdata\\local\\programs\\python\\python312\\lib\\site-packages (from requests) (3.8)\n",
      "Requirement already satisfied: urllib3<3,>=1.21.1 in c:\\users\\lenovo\\appdata\\local\\programs\\python\\python312\\lib\\site-packages (from requests) (2.2.2)\n",
      "Requirement already satisfied: certifi>=2017.4.17 in c:\\users\\lenovo\\appdata\\local\\programs\\python\\python312\\lib\\site-packages (from requests) (2024.8.30)\n",
      "Requirement already satisfied: soupsieve>1.2 in c:\\users\\lenovo\\appdata\\local\\programs\\python\\python312\\lib\\site-packages (from beautifulsoup4) (2.6)\n",
      "Note: you may need to restart the kernel to use updated packages.\n"
     ]
    },
    {
     "name": "stderr",
     "output_type": "stream",
     "text": [
      "\n",
      "[notice] A new release of pip is available: 24.2 -> 24.3.1\n",
      "[notice] To update, run: C:\\Users\\lenovo\\AppData\\Local\\Programs\\Python\\Python312\\python.exe -m pip install --upgrade pip\n"
     ]
    }
   ],
   "source": [
    "pip install requests beautifulsoup4\n"
   ]
  },
  {
   "cell_type": "code",
   "execution_count": 20,
   "id": "417fccdc-7fbb-4461-8809-ce5618a06d43",
   "metadata": {},
   "outputs": [
    {
     "name": "stdout",
     "output_type": "stream",
     "text": [
      "http://reed.cs.depaul.edu/lperkovic/csc242/test1.html\n",
      "Error accessing http://reed.cs.depaul.edu/lperkovic/csc242/test1.html: 404 Client Error:  for url: http://reed.cs.depaul.edu/lperkovic/csc242/test1.html\n"
     ]
    }
   ],
   "source": [
    "import requests\n",
    "from bs4 import BeautifulSoup\n",
    "\n",
    "def webdir(url, depth, indent):\n",
    "    # Print the current URL with the specified indentation\n",
    "    print(' ' * indent + url)\n",
    "    \n",
    "    # Base case: if depth is 0, return\n",
    "    if depth == 0:\n",
    "        return\n",
    "    \n",
    "    try:\n",
    "        # Fetch the content of the URL\n",
    "        response = requests.get(url)\n",
    "        response.raise_for_status()  # Raise an error for bad responses\n",
    "        html_content = response.text\n",
    "        \n",
    "        # Parse the HTML using BeautifulSoup\n",
    "        soup = BeautifulSoup(html_content, 'html.parser')\n",
    "        \n",
    "        # Find all anchor tags and get their href attributes\n",
    "        links = [a['href'] for a in soup.find_all('a', href=True)]\n",
    "        \n",
    "        # Visit each link recursively\n",
    "        for link in links:\n",
    "            # Normalize the link to absolute URL if it's relative\n",
    "            if not link.startswith('http'):\n",
    "                link = requests.compat.urljoin(url, link)\n",
    "            webdir(link, depth - 1, indent + 2)  # Increase indentation for child URLs\n",
    "            \n",
    "    except requests.exceptions.RequestException as e:\n",
    "        print(f\"Error accessing {url}: {e}\")\n",
    "\n",
    "# Example usage\n",
    "if __name__ == \"__main__\":\n",
    "    webdir('http://reed.cs.depaul.edu/lperkovic/csc242/test1.html', 2, 0)\n"
   ]
  },
  {
   "cell_type": "markdown",
   "id": "7b4b98ba-780b-4cd5-902a-af2c45ae9345",
   "metadata": {},
   "source": [
    "# Question 8"
   ]
  },
  {
   "cell_type": "code",
   "execution_count": 1,
   "id": "2681817c-22a6-4ce7-8c9e-35b39fba5915",
   "metadata": {},
   "outputs": [],
   "source": [
    "!pip install pandas"
   ]
  },
  {
   "cell_type": "code",
   "execution_count": 2,
   "id": "96f9b5bd-1aa1-45bc-86e5-4554cde9b93d",
   "metadata": {},
   "outputs": [],
   "source": [
    "import sqlite3\n",
    "import pandas as pd"
   ]
  },
  {
   "cell_type": "code",
   "execution_count": 3,
   "id": "8d7c4aef-4fe4-4d8a-a74b-4ce6c8d427d1",
   "metadata": {},
   "outputs": [],
   "source": [
    "# Create a connection to a new SQLite database\n",
    "conn = sqlite3.connect('example.db')\n",
    "\n",
    "# Create a cursor object to execute SQL commands\n",
    "cursor = conn.cursor()\n",
    "\n",
    "# Create a sample table\n",
    "cursor.execute('''\n",
    "CREATE TABLE WeatherData (\n",
    "    City TEXT,\n",
    "    Country TEXT,\n",
    "    Season TEXT,\n",
    "    Temperature REAL,\n",
    "    Rainfall REAL\n",
    ")\n",
    "''')\n",
    "\n",
    "# Insert sample data into the table\n",
    "data = [\n",
    "    ('Mumbai', 'India', 'Winter', 24.8, 5.9),\n",
    "    ('Mumbai', 'India', 'Spring', 28.4, 16.2),\n",
    "    ('Mumbai', 'India', 'Summer', 27.9, 1549.4),\n",
    "    ('Mumbai', 'India', 'Fall', 27.6, 346.0),\n",
    "    ('London', 'United Kingdom', 'Winter', 4.2, 207.7),\n",
    "    ('London', 'United Kingdom', 'Spring', 8.3, 169.6),\n",
    "    ('London', 'United Kingdom', 'Summer', 15.7, 157.0),\n",
    "    ('London', 'United Kingdom', 'Fall', 10.4, 218.5),\n",
    "    ('Cairo', 'Egypt', 'Winter', 13.6, 16.5),\n",
    "    ('Cairo', 'Egypt', 'Spring', 20.7, 6.5),\n",
    "    ('Cairo', 'Egypt', 'Summer', 27.7, 0.1),\n",
    "    ('Cairo', 'Egypt', 'Fall', 22.2, 4.5)\n",
    "]\n",
    "\n",
    "# Insert data into the table\n",
    "cursor.executemany('INSERT INTO WeatherData VALUES (?, ?, ?, ?, ?)', data)\n",
    "\n",
    "# Commit the changes\n",
    "conn.commit()\n"
   ]
  },
  {
   "cell_type": "code",
   "execution_count": 4,
   "id": "75d456c2-a311-47e6-904b-4b5d6fc39dc5",
   "metadata": {},
   "outputs": [
    {
     "name": "stdout",
     "output_type": "stream",
     "text": [
      "All Temperature Data:\n",
      "    Temperature\n",
      "0          24.8\n",
      "1          28.4\n",
      "2          27.9\n",
      "3          27.6\n",
      "4           4.2\n",
      "5           8.3\n",
      "6          15.7\n",
      "7          10.4\n",
      "8          13.6\n",
      "9          20.7\n",
      "10         27.7\n",
      "11         22.2\n"
     ]
    }
   ],
   "source": [
    "# Query to get all temperature data\n",
    "temperature_query = \"SELECT Temperature FROM WeatherData;\"\n",
    "temperatures = pd.read_sql_query(temperature_query, conn)\n",
    "\n",
    "# Display the results\n",
    "print(\"All Temperature Data:\")\n",
    "print(temperatures)\n"
   ]
  },
  {
   "cell_type": "code",
   "execution_count": 5,
   "id": "f81fed03-53e0-400d-8f45-35d50568f555",
   "metadata": {},
   "outputs": [
    {
     "name": "stdout",
     "output_type": "stream",
     "text": [
      "\n",
      "All Unique Cities:\n",
      "     City\n",
      "0  Mumbai\n",
      "1  London\n",
      "2   Cairo\n"
     ]
    }
   ],
   "source": [
    "# Query to get all unique cities\n",
    "cities_query = \"SELECT DISTINCT City FROM WeatherData;\"\n",
    "cities = pd.read_sql_query(cities_query, conn)\n",
    "\n",
    "# Display the results\n",
    "print(\"\\nAll Unique Cities:\")\n",
    "print(cities)\n"
   ]
  },
  {
   "cell_type": "code",
   "execution_count": 6,
   "id": "54aa69d8-944a-40f0-aecd-d8ff88c247c9",
   "metadata": {},
   "outputs": [
    {
     "name": "stdout",
     "output_type": "stream",
     "text": [
      "\n",
      "All Records for India:\n",
      "     City Country  Season  Temperature  Rainfall\n",
      "0  Mumbai   India  Winter         24.8       5.9\n",
      "1  Mumbai   India  Spring         28.4      16.2\n",
      "2  Mumbai   India  Summer         27.9    1549.4\n",
      "3  Mumbai   India    Fall         27.6     346.0\n"
     ]
    }
   ],
   "source": [
    "# Query to get all records for India\n",
    "india_query = \"SELECT * FROM WeatherData WHERE Country = 'India';\"\n",
    "india_records = pd.read_sql_query(india_query, conn)\n",
    "\n",
    "# Display the results\n",
    "print(\"\\nAll Records for India:\")\n",
    "print(india_records)\n"
   ]
  },
  {
   "cell_type": "code",
   "execution_count": 7,
   "id": "2638b5fb-c45d-4898-bb49-e2e864d30a04",
   "metadata": {},
   "outputs": [
    {
     "name": "stdout",
     "output_type": "stream",
     "text": [
      "\n",
      "All Fall Records:\n",
      "     City         Country Season  Temperature  Rainfall\n",
      "0  Mumbai           India   Fall         27.6     346.0\n",
      "1  London  United Kingdom   Fall         10.4     218.5\n",
      "2   Cairo           Egypt   Fall         22.2       4.5\n"
     ]
    }
   ],
   "source": [
    "# Query to get all records for Fall\n",
    "fall_query = \"SELECT * FROM WeatherData WHERE Season = 'Fall';\"\n",
    "fall_records = pd.read_sql_query(fall_query, conn)\n",
    "\n",
    "# Display the results\n",
    "print(\"\\nAll Fall Records:\")\n",
    "print(fall_records)\n"
   ]
  },
  {
   "cell_type": "code",
   "execution_count": 8,
   "id": "5d49a7d7-b8bf-4af4-8e87-54b62361a992",
   "metadata": {},
   "outputs": [],
   "source": [
    "conn.close()\n"
   ]
  },
  {
   "cell_type": "markdown",
   "id": "0b94c0cd-6862-41b2-9c77-2bbb09a21d02",
   "metadata": {},
   "source": [
    "# Question 9"
   ]
  },
  {
   "cell_type": "code",
   "execution_count": 22,
   "id": "64463b83-9f56-4d5a-a055-77533402b6f7",
   "metadata": {},
   "outputs": [],
   "source": [
    "words = ['The', 'quick', 'brown', 'fox', 'jumps', 'over', 'the', 'lazy', 'dog']"
   ]
  },
  {
   "cell_type": "code",
   "execution_count": 23,
   "id": "b8979ba9-cf8b-4e38-bd19-696c2efbd170",
   "metadata": {},
   "outputs": [
    {
     "name": "stdout",
     "output_type": "stream",
     "text": [
      "['THE', 'QUICK', 'BROWN', 'FOX', 'JUMPS', 'OVER', 'THE', 'LAZY', 'DOG']\n"
     ]
    }
   ],
   "source": [
    "uppercase_words = [word.upper() for word in words]\n",
    "print(uppercase_words)"
   ]
  },
  {
   "cell_type": "code",
   "execution_count": 24,
   "id": "6768bd14-1067-4b6c-a9c8-2205e1ab63dc",
   "metadata": {},
   "outputs": [
    {
     "name": "stdout",
     "output_type": "stream",
     "text": [
      "['the', 'quick', 'brown', 'fox', 'jumps', 'over', 'the', 'lazy', 'dog']\n"
     ]
    }
   ],
   "source": [
    "lowercase_words = [word.lower() for word in words]\n",
    "print(lowercase_words)"
   ]
  },
  {
   "cell_type": "code",
   "execution_count": 25,
   "id": "2f5f6160-a6ae-4929-8122-28d4bbc05e4e",
   "metadata": {},
   "outputs": [
    {
     "name": "stdout",
     "output_type": "stream",
     "text": [
      "[3, 5, 5, 3, 5, 4, 3, 4, 3]\n"
     ]
    }
   ],
   "source": [
    "lengths = [len(word) for word in words]\n",
    "print(lengths)"
   ]
  },
  {
   "cell_type": "code",
   "execution_count": 26,
   "id": "f3465494-7896-4688-a26b-067293b05ac5",
   "metadata": {},
   "outputs": [
    {
     "name": "stdout",
     "output_type": "stream",
     "text": [
      "[['THE', 'the', 3], ['QUICK', 'quick', 5], ['BROWN', 'brown', 5], ['FOX', 'fox', 3], ['JUMPS', 'jumps', 5], ['OVER', 'over', 4], ['THE', 'the', 3], ['LAZY', 'lazy', 4], ['DOG', 'dog', 3]]\n"
     ]
    }
   ],
   "source": [
    "word_details = [[word.upper(), word.lower(), len(word)] for word in words]\n",
    "print(word_details)"
   ]
  },
  {
   "cell_type": "code",
   "execution_count": 27,
   "id": "09b95e60-0071-487d-82a6-33717fa5c88d",
   "metadata": {},
   "outputs": [
    {
     "name": "stdout",
     "output_type": "stream",
     "text": [
      "['quick', 'brown', 'jumps', 'over', 'lazy']\n"
     ]
    }
   ],
   "source": [
    "long_words = [word for word in words if len(word) >= 4]\n",
    "print(long_words)"
   ]
  }
 ],
 "metadata": {
  "kernelspec": {
   "display_name": "Python 3 (ipykernel)",
   "language": "python",
   "name": "python3"
  },
  "language_info": {
   "codemirror_mode": {
    "name": "ipython",
    "version": 3
   },
   "file_extension": ".py",
   "mimetype": "text/x-python",
   "name": "python",
   "nbconvert_exporter": "python",
   "pygments_lexer": "ipython3",
   "version": "3.12.6"
  }
 },
 "nbformat": 4,
 "nbformat_minor": 5
}
